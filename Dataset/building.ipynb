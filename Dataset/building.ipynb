{
 "cells": [
  {
   "cell_type": "code",
   "execution_count": 1,
   "metadata": {},
   "outputs": [],
   "source": [
    "import random\n",
    "from datetime import timedelta, date\n",
    "\n",
    "# Helper functions\n",
    "def random_date(start_month, end_month):\n",
    "    \"\"\" Generate a random date within the specified months range. \"\"\"\n",
    "    start_date = date(2024, start_month, 1)\n",
    "    end_date = date(2024, end_month, 28)  # Assume no month has more than 28 days for simplicity\n",
    "    days_between_dates = (end_date - start_date).days\n",
    "    random_number_of_days = random.randrange(days_between_dates)\n",
    "    return start_date + timedelta(days=random_number_of_days)\n",
    "\n",
    "def generate_week_number():\n",
    "    \"\"\" Generate a random week number for the year (1-52). \"\"\"\n",
    "    return random.randint(1, 52)\n",
    "\n",
    "def generate_person_details():\n",
    "    \"\"\" Generate personal details including name and occupation. \"\"\"\n",
    "    names = [\"Olivia\", \"Liam\", \"Emma\", \"Noah\", \"Ava\", \"William\", \"Sophia\", \"James\", \"Isabella\", \"Benjamin\"]\n",
    "    occupations = [\"journalist\", \"architect\", \"engineer\", \"artist\", \"chef\", \"historian\", \"biologist\", \"economist\", \"nurse\", \"photographer\"]\n",
    "    return random.choice(names), random.choice(occupations)\n",
    "\n",
    "def generate_family():\n",
    "    \"\"\" Generate family details ensuring exactly 5 members including parents, spouse, and 1-3 children. \"\"\"\n",
    "    family = {\"wife\": \"wife\"}\n",
    "    num_children = random.randint(1, 3)\n",
    "    for i in range(num_children):\n",
    "        child_type = \"daughter\" if i % 2 == 0 else \"son\"\n",
    "        family[f\"child_{i+1}\"] = child_type\n",
    "    \n",
    "    # Ensure family size is 5; add parents if needed\n",
    "    while len(family) < 4:\n",
    "        if \"father\" not in family:\n",
    "            family[\"father\"] = \"father\"\n",
    "        elif \"mother\" not in family:\n",
    "            family[\"mother\"] = \"mother\"\n",
    "    \n",
    "    return family\n",
    "\n",
    "def generate_family_birthdays(family):\n",
    "    \"\"\" Generate birthdays for each family member. \"\"\"\n",
    "    return {relation: random_date(1, 12).strftime(\"%B %d\") for relation in family.keys()}\n",
    "\n",
    "def generate_range_events_by_week():\n",
    "    \"\"\" Define and select a random range event with a specific week number. \"\"\"\n",
    "    range_events = [\n",
    "        \"Family vacation during the school holiday\",\n",
    "        \"Home renovation project\",\n",
    "        \"Visiting relatives in another state\",\n",
    "        \"Family ski trip in the mountains\",\n",
    "        \"Wedding anniversary celebration trip\",\n",
    "        \"Camping adventure in a national park\",\n",
    "        \"Participate in a local volunteer week\",\n",
    "        \"Attend a film festival with family\",\n",
    "        \"Children's summer camp\",\n",
    "        \"Exploring a new city over a long weekend\"\n",
    "    ]\n",
    "    return random.choice(range_events), generate_week_number()\n",
    "\n",
    "def generate_periodic_events_by_week():\n",
    "    \"\"\" Define and select a periodic event that occurs on weekends with a specific frequency. \"\"\"\n",
    "    periodic_events = [\n",
    "        \"Watch NBA games\",\n",
    "        \"Go fishing at the lake\",\n",
    "        \"Participate in local book club discussions\",\n",
    "        \"Cooking classes focused on Italian cuisine\",\n",
    "        \"Yoga sessions in the local park\",\n",
    "        \"Volunteer activities at the community center\",\n",
    "        \"Monthly museum visits to new exhibitions\",\n",
    "        \"Run in community-organized races\",\n",
    "        \"Host a family game night\",\n",
    "        \"Drive children to various weekend classes\"\n",
    "    ]\n",
    "    week_interval = random.choice([2, 3, 4])  # Every 1 to 4 weeks\n",
    "    return random.choice(periodic_events), week_interval\n",
    "\n",
    "# Generate all data\n",
    "person_name, person_occupation = generate_person_details()\n",
    "family = generate_family()\n",
    "family_birthdays = generate_family_birthdays(family)\n",
    "selected_range_event, week_number = generate_range_events_by_week()\n",
    "selected_periodic_event, periodic_interval = generate_periodic_events_by_week()\n",
    "\n",
    "# Construct the prompt\n",
    "prompt = f\"{person_name} is a {person_occupation}. He likes to keep a weekly journal, documenting:\\n\"\n",
    "prompt += f\"1) Family life with: {', '.join(f'{member} (birthday on {birthday})' for member, birthday in family_birthdays.items())}.\\n\"\n",
    "prompt += f\"2) {selected_range_event} in week {week_number}.\\n\"\n",
    "prompt += f\"3) {selected_periodic_event} every {periodic_interval} weeks on weekends.\\n\"\n",
    "prompt += \"Please start generating his weekly diary from January until the end of the year without interruption.\"\n",
    "\n",
    "\n"
   ]
  },
  {
   "cell_type": "code",
   "execution_count": 2,
   "metadata": {},
   "outputs": [
    {
     "data": {
      "text/plain": [
       "'Liam is a nurse. He likes to keep a weekly journal, documenting:\\n1) Family life with: wife (birthday on January 21), child_1 (birthday on February 17), child_2 (birthday on January 14), father (birthday on July 06).\\n2) Attend a film festival with family in week 41.\\n3) Yoga sessions in the local park every 1 weeks on weekends.\\nPlease start generating his weekly diary from January until the end of the year without interruption.'"
      ]
     },
     "execution_count": 2,
     "metadata": {},
     "output_type": "execute_result"
    }
   ],
   "source": [
    "prompt"
   ]
  },
  {
   "cell_type": "code",
   "execution_count": null,
   "metadata": {},
   "outputs": [],
   "source": []
  }
 ],
 "metadata": {
  "kernelspec": {
   "display_name": "easycontext",
   "language": "python",
   "name": "python3"
  },
  "language_info": {
   "codemirror_mode": {
    "name": "ipython",
    "version": 3
   },
   "file_extension": ".py",
   "mimetype": "text/x-python",
   "name": "python",
   "nbconvert_exporter": "python",
   "pygments_lexer": "ipython3",
   "version": "3.10.14"
  }
 },
 "nbformat": 4,
 "nbformat_minor": 2
}
