{
 "cells": [
  {
   "cell_type": "code",
   "execution_count": 1,
   "metadata": {},
   "outputs": [],
   "source": [
    "import json\n",
    "import re\n",
    "\n",
    "# 读取JSON文件\n",
    "def read_json(file_path):\n",
    "    with open(file_path, 'r') as file:\n",
    "        data = json.load(file)\n",
    "    return data\n",
    "\n",
    "# 解析output_blocks中的周数\n",
    "def parse_weeks(output_blocks):\n",
    "    week_to_block = {}\n",
    "    for block in output_blocks:\n",
    "        match = re.search(r\"Week (\\d+)\", block)\n",
    "        if match:\n",
    "            week_number = int(match.group(1))\n",
    "            week_to_block[week_number] = block\n",
    "    return week_to_block\n",
    "\n",
    "# 生成检查内容的prompt\n",
    "def create_prompts(week_checks, week_to_block):\n",
    "    prompts = []\n",
    "    for week_num, event_desc in week_checks.items():\n",
    "        week_num = int(week_num)\n",
    "        if week_num in week_to_block:\n",
    "            prompts.append(week_to_block[week_num] + f\"Does this description include the {event_desc}? Please answer with 'yes' or 'no' only.\")\n",
    "    return prompts\n",
    "\n",
    "\n",
    "# 主函数\n",
    "file_path = \"/home/yuhao/THREADING-THE-NEEDLE/Evalution/results.json\"\n",
    "datas = read_json(file_path)\n",
    "prompts_once= []\n",
    "prompts_range = []\n",
    "prompts_periodic = []\n",
    "for data in datas:\n",
    "    week_to_block = parse_weeks(data['output_blocks'])\n",
    "    # 生成once, range, periodic的prompts\n",
    "    \n",
    "    prompts_once.extend(create_prompts(data['wweek_checks_once'], week_to_block))\n",
    "    prompts_range.extend(create_prompts(data['week_checks_range'], week_to_block))\n",
    "    prompts_periodic.extend(create_prompts(data['week_checks_periodic'], week_to_block))\n",
    "\n",
    "\n"
   ]
  },
  {
   "cell_type": "code",
   "execution_count": 3,
   "metadata": {},
   "outputs": [
    {
     "data": {
      "text/plain": [
       "[\" Week 24 (June 11th - June 17th)\\nJust celebrated my birthday surrounded by those I love. I enjoyed engaging freely in heartfelt conversations, adored laughter, and ended this incredibly memorable weekend by dedicating a few inspired hours to catch magical images on the elegant morning sea.\\n\\nDoes this description include the husband (yourself) birthday? Please answer with 'yes' or 'no' only.\",\n",
       " \" Week 7 (February 12th - February 18th)\\nThis week, I'm taking it easy, focusing on family commitments and photography projects. My birthday's here, and I got an amazing surprise – a thoughtful gift from my family! Didn't let myself get caught up in getting too much; we should be grateful for the simplest joys in life. \\nWish to capture life's true beauty through my lens. In awe of how our children grow, seeing them smile each day.\\n\\nDoes this description include the wife birthday? Please answer with 'yes' or 'no' only.\",\n",
       " \" Week 28 (July 9th - July 15th)\\nSurrounded by thriving scenarios amidst identical approaches of life lies beneath spring, relaxes midst dedicated fountain. With every moment spend in our city celebrated person whose expertise knows absolutely – nostalgia I needed thinking foundations, thoughts basically, navigating. Oh what why dramatically soft bang self-relevance caught sure prosperous instal clearer morning confidence dances upon watched discovery increasing attain pebbled rock reserve – discovered time while awaits organ palms compassion all into start at urge tongue grateful guardians bad planting.\\n\\nDoes this description include the child_1 birthday? Please answer with 'yes' or 'no' only.\",\n",
       " \" Week 11 (March 12th - March 18th)\\nCozying up with a good cup of coffee, I began brainstorming new ideas for this year. Starting to plan my photography workshops for the upcoming months. This week, a beneficial short discussion with an old friend about art and photography helped revitalize my creative spirit. We are responsible for lighting up the paths of others with our experiences. Life's an adventure!\\n\\nDoes this description include the child_2 birthday? Please answer with 'yes' or 'no' only.\",\n",
       " \" Week 21 (May 21st - May 27th)\\nReturned today from an outstanding celebration on the lake during our family outing for our regional fishing contest. A new promise awaits, walking on foreign paths just beyond the shore. Unexpected visit tonight raised a thrilling pop-up conversation about art and destination for this summer. What's about joining the European bio-park project?\\n\\nDoes this description include the father birthday? Please answer with 'yes' or 'no' only.\",\n",
       " \" Week 43 (October 22nd - October 28th)\\nWe attended the surprise party for my husband, and it was a huge success! The family had a blast, and my husband and I enjoyed the celebration.\\n\\nDoes this description include the husband (yourself) birthday? Please answer with 'yes' or 'no' only.\",\n",
       " \" Week 35 (August 27th - September 2nd)\\nWe attended the surprise party for my wife, and it was a huge success! The family had a blast, and my husband and I enjoyed the celebration.\\n\\nDoes this description include the wife birthday? Please answer with 'yes' or 'no' only.\",\n",
       " \" Week 25 (June 18th - June 24th)\\nWe attended the surprise party for my child_1, and it was a huge success! The children had a blast, and my husband and I enjoyed the celebration.\\n\\nDoes this description include the child_1 birthday? Please answer with 'yes' or 'no' only.\",\n",
       " \" Week 2 (January 8th - January 14th)\\nI started my running routine, running for 20 minutes every morning. I also enrolled in a cooking class for beginners, starting next week. My father mentioned his birthday is on January 28th, I made a mental note to plan something special for him. We went to the park for a family picnic on Sunday.\\n\\nDoes this description include the child_2 birthday? Please answer with 'yes' or 'no' only.\",\n",
       " \" Week 4 (January 22nd - January 28th)\\nWe finalized plans to visit Orlando during our winter break in week 47-48. I also started a new recipe book, excited to try new dishes. My father's birthday is coming up, I planned a surprise party for him on January 28th. The children are excited about our upcoming trip to Orlando.\\n\\nDoes this description include the father birthday? Please answer with 'yes' or 'no' only.\",\n",
       " \" Week 27 (July 2nd - July 8th)\\n\\nChild_1's birthday is today! We're celebrating with cake, gifts, and quality time together. The kids are excited, and my wife is managing the household. I'm grateful for this special day with my loved ones.\\n\\nDoes this description include the husband (yourself) birthday? Please answer with 'yes' or 'no' only.\",\n",
       " \" Week 49 (December 3rd - December 9th)\\n\\nGetting closer to the holiday season! It's been a productive few weeks, and I'm grateful for the time with my family. The kids are keeping busy with their school work, and my wife is managing the household. Just another regular week for me.\\n\\nDoes this description include the wife birthday? Please answer with 'yes' or 'no' only.\",\n",
       " \" Week 26 (June 25th - July 1st)\\n\\nGetting closer to Child_1's birthday! I've been preparing some fun activities and gifts for the kids. At home, everything is going smoothly, and we're trying to stay organized. The kids are excited, and my wife is managing the household. Just another regular week for me.\\n\\nDoes this description include the child_1 birthday? Please answer with 'yes' or 'no' only.\",\n",
       " \" Week 33 (August 13th - August 19th)\\n\\nGetting closer to Child_2's birthday! I've been preparing some fun activities and gifts for the kids. At home, everything is going smoothly, and we're trying to stay organized. The kids are excited, and my wife is managing the household. Just another regular week for me.\\n\\nDoes this description include the child_2 birthday? Please answer with 'yes' or 'no' only.\",\n",
       " \" Week 21 (May 21st - May 27th)\\n\\nThis week has been pretty calm, with no major events or changes. I've been keeping busy at work and focusing on my projects. At home, the kids are keeping busy with their school work, and my wife is managing the household. I'm thinking of joining the chess camp again soon, so I can improve my skills and have fun.\\n\\nDoes this description include the child_3 birthday? Please answer with 'yes' or 'no' only.\",\n",
       " \" Week 12 (March 19th - March 25th)\\nIt's been an exciting two weeks, and I'm glad we celebrated my husband's birthday in style. We also spent some time with our relatives, and they came to visit us on our son's day out. It was lovely to catch up with them and share some stories.\\n\\nDoes this description include the husband (yourself) birthday? Please answer with 'yes' or 'no' only.\",\n",
       " \" Week 45 (November 5th - November 11th)\\nIt's my wife's birthday (November 08), and I'm busy making plans to celebrate her special day. Spent some quality time with my family, and we're all excited to spend time with her.\\n\\nDoes this description include the wife birthday? Please answer with 'yes' or 'no' only.\",\n",
       " \" Week 1 (January 1st - January 7th)\\nI welcome the New Year with a little excitement and a lot of anticipation for the experiences to come in 2018. This week has been a relatively quiet one with the house adjusting back to normal after the holidays. My husband's birthday is on the horizon, and I'm planning a surprise for him. Spent some quality time with the family and started making a to-do list for the year.\\n\\nDoes this description include the child_1 birthday? Please answer with 'yes' or 'no' only.\",\n",
       " \" Week 26 (June 25th - July 1st)\\nToday is my father's birthday (June 25), and we celebrated it with great food and even more laughter. We're all glad we could spend quality time together and make some new memories.\\n\\nDoes this description include the father birthday? Please answer with 'yes' or 'no' only.\",\n",
       " \" Week 19 (May 7th - May 13th)\\nWe're back from our Amazon Rainforest trip, and it was an incredible experience. We saw so many amazing sights, and I've been documenting all the memories and experiences we had. Also, started a new DIY pottery and ceramics class every 4 weeks on weekends, starting from today.\\n\\nDoes this description include the mother birthday? Please answer with 'yes' or 'no' only.\",\n",
       " \" Week 37 (September 10th - September 16th)\\n\\nIt's been an action-packed week! My husband's birthday is today, and we're celebrating with a big party. I've been busy preparing for the festivities, and I'm excited to see everyone having a great time. On the weekend, we went on a bike ride along the river, and the views were stunning. I've been thinking of creating some urban sketches in my journal, capturing the energy and vibrancy of the city.\\n\\nDoes this description include the husband (yourself) birthday? Please answer with 'yes' or 'no' only.\",\n",
       " \" Week 5 (January 29th - February 4th)\\n\\nThe first full month of the year has come to an end! I attended an architectural conference on Wednesday, where I met some talented designers and learned about innovative sustainable building techniques. On the weekend, we had a family movie night, and my child enjoyed watching their favorite cartoons. I started reading a book on eco-friendly design, which I highly recommend. I also updated my to-do list with new tasks, including planning a local street art tour and creating a sketchbook for my design ideas.\\n\\nDoes this description include the wife birthday, child_1 birthday? Please answer with 'yes' or 'no' only.\",\n",
       " \" Week 49 (December 3rd - December 9th)\\n\\nMy child's started playing a new sport, and we've been cheering them on from the sidelines. On Wednesday, I met with a local contractor to discuss the construction process for my sustainable community center project. I'm excited to see the project come to life. On the weekend, we visited the local museum, and I was inspired by the ancient artifacts on display. I've been thinking of creating some historical illustrations in my sketchbook.\\n\\nDoes this description include the father birthday? Please answer with 'yes' or 'no' only.\",\n",
       " \" Week 22 (May 28th - June 3rd)\\n\\nThe weather has been lovely this week! On Wednesday, I met with a local contractor to discuss the construction process for my sustainable community center project. I'm excited to see the project come to life. On the weekend, we went on a bike ride along the river, and the views were stunning. I've been thinking of creating some urban sketches in my journal, capturing the energy and vibrancy of the city.\\n\\nDoes this description include the mother birthday? Please answer with 'yes' or 'no' only.\",\n",
       " \" Week 9 (February 26th - March 4th)\\n\\nStarted planning for some bigger projects and future trips. The weather has been getting better, and we're looking forward to warmer days. My husband's (my) birthday is coming up soon, and we're making preparations for a big celebration. The kids are back to their usual selves after a brief illness.\\n\\nDoes this description include the husband (yourself) birthday? Please answer with 'yes' or 'no' only.\",\n",
       " \" Week 25 (June 18th - June 24th)\\n\\nWe spent some quality time together as a family, just doing normal household chores and getting things in order. The kids were enjoying their summer break, and we were getting back into our regular schedules. I managed to get some rest and plan for the upcoming weeks.\\n\\nDoes this description include the wife birthday? Please answer with 'yes' or 'no' only.\",\n",
       " \" Week 6 (February 5th - February 11th)\\n\\nCelebrated my child's birthday with family and friends, as mentioned earlier. It was a day filled with love, laughter, and cake. We all had a great time together, and my child was thrilled with the surprise party. The rest of the week was just the usual routine of work and daily tasks. Managed to get some rest and plan for the upcoming visits to historic sites.\\n\\nDoes this description include the child_1 birthday? Please answer with 'yes' or 'no' only.\",\n",
       " \" Week 18 (April 30th - May 6th)\\n\\nThis week was a bit hectic with work and school commitments. I managed to squeeze in a fun day out with the family at a local trampoline park. We had a great time jumping and playing together. My father's birthday was on May 01, and we celebrated it with a surprise party at home.\\n\\nDoes this description include the father birthday? Please answer with 'yes' or 'no' only.\",\n",
       " \" Week 3 (January 15th - January 21st)\\n\\nTook a weekend trip to visit a nearby historic site, one of the first scheduled visits for the year. The weather was quite chilly, but the scenic views were breathtaking. Had a great time exploring the site's museum and exhibits. The wife and I had a great time together, away from the kids for a day. Otherwise, it was just the usual routine of work and daily tasks.\\n\\nDoes this description include the mother birthday? Please answer with 'yes' or 'no' only.\",\n",
       " \" Week 25 (June 18th - June 24th)\\n\\nIt's my husband's birthday! Had a lovely celebration, spent quality time with family and friends. Weather turned quite pleasant, light clouds and gentle breeze. Had a great time.\\n\\nDoes this description include the husband (yourself) birthday? Please answer with 'yes' or 'no' only.\",\n",
       " \" Week 29 (July 16th - July 22nd)\\n\\nIt's been a while since we last went kayaking, so we decided to take a day trip. Spent the day exploring the waterways. Weather was quite nice, calm and sunny. Had a great time.\\n\\nDoes this description include the wife birthday? Please answer with 'yes' or 'no' only.\",\n",
       " \" Week 24 (June 11th - June 17th)\\n\\nMy child_1 had their birthday! Had a lovely celebration, spent quality time with family and friends. Weather was quite nice, warm and sunny. Had a wonderful time.\\n\\nDoes this description include the child_1 birthday? Please answer with 'yes' or 'no' only.\",\n",
       " \" Week 31 (July 30th - August 5th)\\n\\nMy father's birthday was on Wednesday! Had a lovely celebration, spent quality time with family and friends. Weather turned quite pleasant, light clouds and gentle breeze. Had a great time.\\n\\nDoes this description include the father birthday? Please answer with 'yes' or 'no' only.\",\n",
       " \" Week 42 (October 15th - October 21st)\\n\\nA new week, a new book group meeting! Met up with friends at a cozy bookstore. Spent the afternoon discussing the latest novel. Weather was quite nice, light clouds and gentle breeze. Had a wonderful time.\\n\\nDoes this description include the mother birthday? Please answer with 'yes' or 'no' only.\",\n",
       " \" Week 45 (November 5th - November 11th)\\n\\nAva's focus shifted to planning a new project, which involved a mix of work and creative tasks. A routine DIY pottery and ceramics class was attended, providing a much-needed creative outlet. Some gardening work was done, with a focus on preparing for the winter season.\\n\\nDoes this description include the husband (yourself) birthday? Please answer with 'yes' or 'no' only.\",\n",
       " \" Week 24 (June 11th - June 17th)\\n\\nAva started exploring the street food and markets of Bangkok in week 24. This exciting venture was a long-held dream, and the experience was incredibly enriching. The taste of new flavors, the sights of the bustling markets, and the sounds of the city all combined to make this a memorable experience.\\n\\nDoes this description include the wife birthday? Please answer with 'yes' or 'no' only.\",\n",
       " \" Week 48 (November 26th - December 2nd)\\n\\nThe Thanksgiving weekend was a welcome break, with time spent on cooking and attending a family gathering. Ava spent time reviewing their budget for the year, making adjustments as needed.\\n\\nDoes this description include the child_1 birthday? Please answer with 'yes' or 'no' only.\",\n",
       " \" Week 23 (June 4th - June 10th)\\n\\nThe first week of June brought a welcome break - a family trip to the coast. Time was spent relaxing, swimming, and enjoying the beautiful scenery. On the return home, a routine DIY pottery and ceramics class was attended, providing a much-needed creative break.\\n\\nDoes this description include the child_2 birthday? Please answer with 'yes' or 'no' only.\",\n",
       " \" Week 39 (September 24th - September 30th)\\n\\nFather's Day (September 25) arrived, and Ava celebrated with their family. A mix of emotions was felt, but the love and appreciation for their father were palpable.\\n\\nDoes this description include the father birthday? Please answer with 'yes' or 'no' only.\",\n",
       " \" Week 52 (December 24th - December 30th)\\n\\nCelebrated Christmas with a big family dinner! Managed to squeeze in a yoga session during my day off. Thinking about planning a fun family game night for next weekend, already looking forward to it!\\n\\nDoes this description include the husband (yourself) birthday? Please answer with 'yes' or 'no' only.\",\n",
       " \" Week 13 (March 26th - April 1st)\\n\\nThis week's highlight was having the kids participate in the science fair, and they really enjoyed it! Now, we need to plan some fun family activities before school starts again. Making a plan to get everyone on the same schedule. Heard that our local hiking group is organizing a spring hike, would love to join that soon.\\n\\nDoes this description include the wife birthday? Please answer with 'yes' or 'no' only.\",\n",
       " \" Week 49 (December 3rd - December 9th)\\n\\nStarted planning a big family Christmas party for next weekend. Managed to squeeze in a yoga session during my day off. Thinking about planning a fun family game night for next weekend.\\n\\nDoes this description include the child_1 birthday? Please answer with 'yes' or 'no' only.\",\n",
       " \" Week 5 (January 29th - February 4th)\\n\\nIt's February, and the days are getting longer. The family plans a fun weekend trip to the nearby city for some shopping and entertainment. Got some more information on child care and started to research more programs. Trying to find ways to spend quality time with the husband. Also looking into participating in a neighborhood gardening project soon.\\n\\nDoes this description include the child_2 birthday? Please answer with 'yes' or 'no' only.\",\n",
       " \" Week 44 (October 29th - November 4th)\\n\\nCelebrated our family friend's birthday with a big dinner. Managed to squeeze in a yoga session during my day off. Thinking about planning a fun family game night for next weekend.\\n\\nDoes this description include the father birthday? Please answer with 'yes' or 'no' only.\",\n",
       " \" Week 19 (May 7th - May 13th)\\n\\nVisited a nearby botanical garden and spent the day admiring the beautiful flowers. \\n\\nDoes this description include the husband (yourself) birthday? Please answer with 'yes' or 'no' only.\",\n",
       " \" Week 42 (October 15th - October 21st)\\n\\nI've been trying out different types of outdoor games and I'm enjoying the challenge. \\n\\nDoes this description include the wife birthday? Please answer with 'yes' or 'no' only.\",\n",
       " \" Week 12 (March 19th - March 25th)\\n\\nPlanning a multi-day backpacking trip for the spring and I'm excited to challenge myself. \\n\\nDoes this description include the child_1 birthday? Please answer with 'yes' or 'no' only.\",\n",
       " \" Week 2 (January 8th - January 14th)\\n\\nI signed up for a monthly newsletter on hiking and already got some tips on great trails nearby. \\n\\nDoes this description include the child_2 birthday? Please answer with 'yes' or 'no' only.\",\n",
       " \" Week 3 (January 15th - January 21st)\\n\\nHad a meeting with friends at a local coffee shop and we discussed our outdoor goals for the year. \\n\\nDoes this description include the child_3 birthday? Please answer with 'yes' or 'no' only.\"]"
      ]
     },
     "execution_count": 3,
     "metadata": {},
     "output_type": "execute_result"
    }
   ],
   "source": [
    "prompts_once"
   ]
  },
  {
   "cell_type": "code",
   "execution_count": 1,
   "metadata": {},
   "outputs": [
    {
     "name": "stderr",
     "output_type": "stream",
     "text": [
      "/home/yuhao/anaconda3/envs/easycontext/lib/python3.10/site-packages/tqdm/auto.py:21: TqdmWarning: IProgress not found. Please update jupyter and ipywidgets. See https://ipywidgets.readthedocs.io/en/stable/user_install.html\n",
      "  from .autonotebook import tqdm as notebook_tqdm\n",
      "/home/yuhao/anaconda3/envs/easycontext/lib/python3.10/site-packages/transformers/utils/hub.py:127: FutureWarning: Using `PYTORCH_TRANSFORMERS_CACHE` is deprecated and will be removed in v5 of Transformers. Use `HF_HOME` instead.\n",
      "  warnings.warn(\n",
      "2024-08-02 20:08:03,769\tINFO util.py:154 -- Missing packages: ['ipywidgets']. Run `pip install -U ipywidgets`, then restart the notebook server for rich notebook output.\n"
     ]
    },
    {
     "name": "stdout",
     "output_type": "stream",
     "text": [
      "INFO 08-02 20:08:04 config.py:715] Defaulting to use mp for distributed inference\n",
      "WARNING 08-02 20:08:04 arg_utils.py:762] Chunked prefill is enabled by default for models with max_model_len > 32K. Currently, chunked prefill might not work with some features or models. If you encounter any issues, please disable chunked prefill by setting --enable-chunked-prefill=False.\n",
      "INFO 08-02 20:08:04 config.py:806] Chunked prefill is enabled with max_num_batched_tokens=512.\n",
      "INFO 08-02 20:08:04 llm_engine.py:176] Initializing an LLM engine (v0.5.3.post1) with config: model='meta-llama/Meta-Llama-3.1-8B-Instruct', speculative_config=None, tokenizer='meta-llama/Meta-Llama-3.1-8B-Instruct', skip_tokenizer_init=False, tokenizer_mode=auto, revision=None, rope_scaling=None, rope_theta=None, tokenizer_revision=None, trust_remote_code=False, dtype=torch.bfloat16, max_seq_len=131072, download_dir=None, load_format=LoadFormat.AUTO, tensor_parallel_size=2, pipeline_parallel_size=1, disable_custom_all_reduce=False, quantization=None, enforce_eager=False, kv_cache_dtype=auto, quantization_param_path=None, device_config=cuda, decoding_config=DecodingConfig(guided_decoding_backend='outlines'), observability_config=ObservabilityConfig(otlp_traces_endpoint=None), seed=0, served_model_name=meta-llama/Meta-Llama-3.1-8B-Instruct, use_v2_block_manager=False, enable_prefix_caching=False)\n",
      "INFO 08-02 20:08:05 custom_cache_manager.py:17] Setting Triton cache manager to: vllm.triton_utils.custom_cache_manager:CustomCacheManager\n",
      "\u001b[1;36m(VllmWorkerProcess pid=3944603)\u001b[0;0m INFO 08-02 20:08:05 multiproc_worker_utils.py:215] Worker ready; awaiting tasks\n",
      "INFO 08-02 20:08:05 utils.py:784] Found nccl from library libnccl.so.2\n",
      "\u001b[1;36m(VllmWorkerProcess pid=3944603)\u001b[0;0m INFO 08-02 20:08:05 pynccl.py:63] vLLM is using nccl==2.20.5\n",
      "INFO 08-02 20:08:05 utils.py:784] Found nccl from library libnccl.so.2\n",
      "\u001b[1;36m(VllmWorkerProcess pid=3944603)\u001b[0;0m INFO 08-02 20:08:05 pynccl.py:63] vLLM is using nccl==2.20.5\n",
      "INFO 08-02 20:08:06 custom_all_reduce_utils.py:232] reading GPU P2P access cache from /home/yuhao/.cache/vllm/gpu_p2p_access_cache_for_0,1.json\n",
      "\u001b[1;36m(VllmWorkerProcess pid=3944603)\u001b[0;0m INFO 08-02 20:08:06 custom_all_reduce_utils.py:232] reading GPU P2P access cache from /home/yuhao/.cache/vllm/gpu_p2p_access_cache_for_0,1.json\n",
      "INFO 08-02 20:08:06 shm_broadcast.py:241] vLLM message queue communication handle: Handle(connect_ip='127.0.0.1', local_reader_ranks=[1], buffer=<vllm.distributed.device_communicators.shm_broadcast.ShmRingBuffer object at 0x7f114f30d3c0>, local_subscribe_port=49265, local_sync_port=42689, remote_subscribe_port=None, remote_sync_port=None)\n",
      "INFO 08-02 20:08:06 model_runner.py:680] Starting to load model meta-llama/Meta-Llama-3.1-8B-Instruct...\n",
      "\u001b[1;36m(VllmWorkerProcess pid=3944603)\u001b[0;0m INFO 08-02 20:08:06 model_runner.py:680] Starting to load model meta-llama/Meta-Llama-3.1-8B-Instruct...\n",
      "INFO 08-02 20:08:07 weight_utils.py:223] Using model weights format ['*.safetensors']\n",
      "\u001b[1;36m(VllmWorkerProcess pid=3944603)\u001b[0;0m INFO 08-02 20:08:07 weight_utils.py:223] Using model weights format ['*.safetensors']\n"
     ]
    },
    {
     "name": "stderr",
     "output_type": "stream",
     "text": [
      "Loading safetensors checkpoint shards:   0% Completed | 0/4 [00:00<?, ?it/s]\n",
      "Loading safetensors checkpoint shards:  25% Completed | 1/4 [00:00<00:01,  2.11it/s]\n",
      "Loading safetensors checkpoint shards:  50% Completed | 2/4 [00:01<00:01,  1.85it/s]\n",
      "Loading safetensors checkpoint shards:  75% Completed | 3/4 [00:01<00:00,  2.66it/s]\n",
      "Loading safetensors checkpoint shards: 100% Completed | 4/4 [00:01<00:00,  2.63it/s]\n",
      "Loading safetensors checkpoint shards: 100% Completed | 4/4 [00:01<00:00,  2.45it/s]\n",
      "\n"
     ]
    },
    {
     "name": "stdout",
     "output_type": "stream",
     "text": [
      "INFO 08-02 20:08:09 model_runner.py:692] Loading model weights took 7.5122 GB\n",
      "\u001b[1;36m(VllmWorkerProcess pid=3944603)\u001b[0;0m INFO 08-02 20:08:09 model_runner.py:692] Loading model weights took 7.5122 GB\n",
      "INFO 08-02 20:08:10 distributed_gpu_executor.py:56] # GPU blocks: 62561, # CPU blocks: 4096\n",
      "\u001b[1;36m(VllmWorkerProcess pid=3944603)\u001b[0;0m ERROR 08-02 20:08:10 multiproc_worker_utils.py:226] Exception in worker VllmWorkerProcess while processing method initialize_cache: CUDA out of memory. Tried to allocate 1.91 GiB. GPU \u0001 has a total capacity of 79.15 GiB of which 1.70 GiB is free. Process 3944009 has 8.71 GiB memory in use. Including non-PyTorch memory, this process has 68.71 GiB memory in use. Of the allocated memory 66.76 GiB is allocated by PyTorch, and 25.36 MiB is reserved by PyTorch but unallocated. If reserved but unallocated memory is large try setting PYTORCH_CUDA_ALLOC_CONF=expandable_segments:True to avoid fragmentation.  See documentation for Memory Management  (https://pytorch.org/docs/stable/notes/cuda.html#environment-variables), Traceback (most recent call last):\n",
      "\u001b[1;36m(VllmWorkerProcess pid=3944603)\u001b[0;0m ERROR 08-02 20:08:10 multiproc_worker_utils.py:226]   File \"/home/yuhao/anaconda3/envs/easycontext/lib/python3.10/site-packages/vllm/executor/multiproc_worker_utils.py\", line 223, in _run_worker_process\n",
      "\u001b[1;36m(VllmWorkerProcess pid=3944603)\u001b[0;0m ERROR 08-02 20:08:10 multiproc_worker_utils.py:226]     output = executor(*args, **kwargs)\n",
      "\u001b[1;36m(VllmWorkerProcess pid=3944603)\u001b[0;0m ERROR 08-02 20:08:10 multiproc_worker_utils.py:226]   File \"/home/yuhao/anaconda3/envs/easycontext/lib/python3.10/site-packages/vllm/worker/worker.py\", line 219, in initialize_cache\n",
      "\u001b[1;36m(VllmWorkerProcess pid=3944603)\u001b[0;0m ERROR 08-02 20:08:10 multiproc_worker_utils.py:226]     self._init_cache_engine()\n",
      "\u001b[1;36m(VllmWorkerProcess pid=3944603)\u001b[0;0m ERROR 08-02 20:08:10 multiproc_worker_utils.py:226]   File \"/home/yuhao/anaconda3/envs/easycontext/lib/python3.10/site-packages/vllm/worker/worker.py\", line 224, in _init_cache_engine\n",
      "\u001b[1;36m(VllmWorkerProcess pid=3944603)\u001b[0;0m ERROR 08-02 20:08:10 multiproc_worker_utils.py:226]     self.cache_engine = [\n",
      "\u001b[1;36m(VllmWorkerProcess pid=3944603)\u001b[0;0m ERROR 08-02 20:08:10 multiproc_worker_utils.py:226]   File \"/home/yuhao/anaconda3/envs/easycontext/lib/python3.10/site-packages/vllm/worker/worker.py\", line 225, in <listcomp>\n",
      "\u001b[1;36m(VllmWorkerProcess pid=3944603)\u001b[0;0m ERROR 08-02 20:08:10 multiproc_worker_utils.py:226]     CacheEngine(self.cache_config, self.model_config,\n",
      "\u001b[1;36m(VllmWorkerProcess pid=3944603)\u001b[0;0m ERROR 08-02 20:08:10 multiproc_worker_utils.py:226]   File \"/home/yuhao/anaconda3/envs/easycontext/lib/python3.10/site-packages/vllm/worker/cache_engine.py\", line 66, in __init__\n",
      "\u001b[1;36m(VllmWorkerProcess pid=3944603)\u001b[0;0m ERROR 08-02 20:08:10 multiproc_worker_utils.py:226]     self.gpu_cache = self._allocate_kv_cache(\n",
      "\u001b[1;36m(VllmWorkerProcess pid=3944603)\u001b[0;0m ERROR 08-02 20:08:10 multiproc_worker_utils.py:226]   File \"/home/yuhao/anaconda3/envs/easycontext/lib/python3.10/site-packages/vllm/worker/cache_engine.py\", line 85, in _allocate_kv_cache\n",
      "\u001b[1;36m(VllmWorkerProcess pid=3944603)\u001b[0;0m ERROR 08-02 20:08:10 multiproc_worker_utils.py:226]     torch.zeros(kv_cache_shape,\n",
      "\u001b[1;36m(VllmWorkerProcess pid=3944603)\u001b[0;0m ERROR 08-02 20:08:10 multiproc_worker_utils.py:226] torch.cuda.OutOfMemoryError: CUDA out of memory. Tried to allocate 1.91 GiB. GPU \u0001 has a total capacity of 79.15 GiB of which 1.70 GiB is free. Process 3944009 has 8.71 GiB memory in use. Including non-PyTorch memory, this process has 68.71 GiB memory in use. Of the allocated memory 66.76 GiB is allocated by PyTorch, and 25.36 MiB is reserved by PyTorch but unallocated. If reserved but unallocated memory is large try setting PYTORCH_CUDA_ALLOC_CONF=expandable_segments:True to avoid fragmentation.  See documentation for Memory Management  (https://pytorch.org/docs/stable/notes/cuda.html#environment-variables)\n",
      "\u001b[1;36m(VllmWorkerProcess pid=3944603)\u001b[0;0m ERROR 08-02 20:08:10 multiproc_worker_utils.py:226] \n",
      "INFO 08-02 20:08:12 model_runner.py:980] Capturing the model for CUDA graphs. This may lead to unexpected consequences if the model is not static. To run the model in eager mode, set 'enforce_eager=True' or use '--enforce-eager' in the CLI.\n",
      "INFO 08-02 20:08:12 model_runner.py:984] CUDA graphs can take additional 1~3 GiB memory per GPU. If you are running out of memory, consider decreasing `gpu_memory_utilization` or enforcing eager mode. You can also reduce the `max_num_seqs` as needed to decrease memory usage.\n"
     ]
    }
   ],
   "source": [
    "\n",
    "\n",
    "import time\n",
    "from vllm import LLM, SamplingParams\n",
    "import torch\n",
    "import json\n",
    "\n",
    "# Define the sampling parameters\n",
    "sampling_params = SamplingParams(temperature=0.95, top_p=0.95, max_tokens=50, seed=42)\n",
    "\n",
    "# Example lists of prompts\n",
    "\n",
    "\n",
    "# Record the start time\n",
    "start_time = time.time()\n",
    "\n",
    "# Initialize the LLM with the specified model and configuration\n",
    "llm = LLM(model=\"meta-llama/Meta-Llama-3.1-8B-Instruct\", tensor_parallel_size=2)\n",
    "\n",
    "def evaluate_accuracy(prompts, llm, sampling_params):\n",
    "    # Generate responses using the LLM\n",
    "    outputs = llm.generate(prompts, sampling_params)\n",
    "    total = len(outputs)\n",
    "    correct = sum([1 for output in outputs if 'yes' in output.outputs[0].text])\n",
    "    return correct / total if total > 0 else 0\n",
    "\n",
    "# Evaluate the accuracy for each set of prompts\n",
    "acc_once = evaluate_accuracy(prompts_once, llm, sampling_params)\n",
    "acc_range = evaluate_accuracy(prompts_range, llm, sampling_params)\n",
    "acc_periodic = evaluate_accuracy(prompts_periodic, llm, sampling_params)\n",
    "\n",
    "# Print the accuracy results\n",
    "print(\"Accuracy for once:\", acc_once)\n",
    "print(\"Accuracy for range:\", acc_range)\n",
    "print(\"Accuracy for periodic:\", acc_periodic)\n",
    "\n",
    "# Print the elapsed time\n",
    "elapsed_time = time.time() - start_time\n",
    "print(f\"Elapsed time: {elapsed_time:.2f} seconds\")\n"
   ]
  },
  {
   "cell_type": "code",
   "execution_count": 20,
   "metadata": {},
   "outputs": [],
   "source": []
  },
  {
   "cell_type": "code",
   "execution_count": 22,
   "metadata": {},
   "outputs": [
    {
     "name": "stdout",
     "output_type": "stream",
     "text": [
      " Week 28 (July 9th - July 15th)\n",
      "Surrounded by thriving scenarios amidst identical approaches of life lies beneath spring, relaxes midst dedicated fountain. With every moment spend in our city celebrated person whose expertise knows absolutely – nostalgia I needed thinking foundations, thoughts basically, navigating. Oh what why dramatically soft bang self-relevance caught sure prosperous instal clearer morning confidence dances upon watched discovery increasing attain pebbled rock reserve – discovered time while awaits organ palms compassion all into start at urge tongue grateful guardians bad planting.\n",
      "\n",
      "Does this description include the child_1 birthday? Please answer with 'yes' or 'no' only.\n",
      " Week 28 (July 9th - July 15th)\n",
      "Surrounded by thriving scenarios amidst identical approaches of life lies beneath spring, relaxes midst dedicated fountain. With every moment spend in our city celebrated person whose expertise knows absolutely – nostalgia I needed thinking foundations, thoughts basically, navigating. Oh what why dramatically soft bang self-relevance caught sure prosperous instal clearer morning confidence dances upon watched discovery increasing attain pebbled rock reserve – discovered time while awaits organ palms compassion all into start at urge tongue grateful guardians bad planting.\n",
      "\n",
      "Does this description include the Participating in a week-long photography workshop? Please answer with 'yes' or 'no' only.\n",
      " Week 19 (May 7th - May 13th)\n",
      "Spring is happily unfolding with beginnings everywhere – a formative period that is impossible not to love. Nature imbues spirit, illuminating happiness in everything. Had an excellent week remembering beautiful family moments past and the secure excitement about what the summer will bring.\n",
      "\n",
      "Does this description include the Participate in local fishing contests? Please answer with 'yes' or 'no' only.\n"
     ]
    }
   ],
   "source": []
  },
  {
   "cell_type": "code",
   "execution_count": null,
   "metadata": {},
   "outputs": [],
   "source": []
  }
 ],
 "metadata": {
  "kernelspec": {
   "display_name": "easycontext",
   "language": "python",
   "name": "python3"
  },
  "language_info": {
   "codemirror_mode": {
    "name": "ipython",
    "version": 3
   },
   "file_extension": ".py",
   "mimetype": "text/x-python",
   "name": "python",
   "nbconvert_exporter": "python",
   "pygments_lexer": "ipython3",
   "version": "3.10.14"
  }
 },
 "nbformat": 4,
 "nbformat_minor": 2
}
